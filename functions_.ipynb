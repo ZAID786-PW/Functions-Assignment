{
  "nbformat": 4,
  "nbformat_minor": 0,
  "metadata": {
    "colab": {
      "provenance": []
    },
    "kernelspec": {
      "name": "python3",
      "display_name": "Python 3"
    },
    "language_info": {
      "name": "python"
    }
  },
  "cells": [
    {
      "cell_type": "markdown",
      "source": [
        "#Functions assignment\n",
        "\n",
        "Theory Questions:"
      ],
      "metadata": {
        "id": "oaI6aq2LyXrR"
      }
    },
    {
      "cell_type": "markdown",
      "source": [
        "1. What is the difference between a function and a method in Python?\n",
        "\n",
        "\n",
        "Ans: Function: A block of reusable code that performs a specific task. Defined using the def keyword.\n",
        "\n",
        "Method: A function that is associated with an object (usually a class instance). It’s called using dot . notation."
      ],
      "metadata": {
        "id": "G9S8xZ5ezyTK"
      }
    },
    {
      "cell_type": "code",
      "source": [
        " #example\n",
        "\n",
        "# Function\n",
        "def greet(name):\n",
        "    return \"Hello \" + name\n",
        "\n",
        "print(greet(\"Zaid\"))  # Output: Hello Zaid\n",
        "\n",
        "# Method (inside a class)\n",
        "class Person:\n",
        "    def say_hello(self):\n",
        "        return \"Hello from a method\"\n",
        "\n",
        "p = Person()\n",
        "print(p.say_hello())  # Output: Hello from a method"
      ],
      "metadata": {
        "colab": {
          "base_uri": "https://localhost:8080/"
        },
        "id": "MKtizM5GyhQs",
        "outputId": "44f24604-6948-44da-86f1-98c3e0d37108"
      },
      "execution_count": 2,
      "outputs": [
        {
          "output_type": "stream",
          "name": "stdout",
          "text": [
            "Hello Zaid\n",
            "Hello from a method\n"
          ]
        }
      ]
    },
    {
      "cell_type": "markdown",
      "source": [
        "2. . Explain the concept of function arguments and parameters in Python.\n",
        "\n",
        "\n",
        "Ans : Parameters: Variables listed in a function definition.\n",
        "\n",
        "Arguments: Actual values passed to the function when it is called."
      ],
      "metadata": {
        "id": "YtUHgbnr0BDr"
      }
    },
    {
      "cell_type": "code",
      "source": [
        "#example\n",
        "\n",
        "# name is a parameter\n",
        "def greet(name):\n",
        "    print(\"Hi\", name)\n",
        "\n",
        "# \"Zaid\" is an argument\n",
        "greet(\"Zaid\")  # Output: Hi Zaid"
      ],
      "metadata": {
        "colab": {
          "base_uri": "https://localhost:8080/"
        },
        "id": "6E6XSUZAzbE_",
        "outputId": "72fe690d-b32a-492c-80ed-6456d8d9ddaf"
      },
      "execution_count": 3,
      "outputs": [
        {
          "output_type": "stream",
          "name": "stdout",
          "text": [
            "Hi Zaid\n"
          ]
        }
      ]
    },
    {
      "cell_type": "markdown",
      "source": [
        "3. What are the different ways to define and call a function in Python?\n",
        "\n",
        "\n",
        "Ans : Ways to define a function:\n",
        "Standard function:"
      ],
      "metadata": {
        "id": "w1UPxJxX0ZQ4"
      }
    },
    {
      "cell_type": "code",
      "source": [
        "#example\n",
        "\n",
        "def add(a, b):\n",
        "    return a + b\n",
        "\n",
        "    #lambda function:\n",
        "    add = lambda a, b: a + b\n",
        "\n",
        "    #Ways to call functions\n",
        "\n",
        "    # Calling both functions\n",
        "print(add(5, 3))  # Output: 8"
      ],
      "metadata": {
        "colab": {
          "base_uri": "https://localhost:8080/"
        },
        "id": "KvyQoXFP0jEf",
        "outputId": "90515d2c-275e-41da-d2b8-ba042fb459de"
      },
      "execution_count": 5,
      "outputs": [
        {
          "output_type": "stream",
          "name": "stdout",
          "text": [
            "8\n"
          ]
        }
      ]
    },
    {
      "cell_type": "markdown",
      "source": [
        "4. What is the purpose of the return statement in a Python function?\n",
        "\n",
        "\n",
        "Ans: The return statement sends back a value from the function to the caller.\n",
        "\n",
        "It also exits the function when executed."
      ],
      "metadata": {
        "id": "5rsYf5D51OMB"
      }
    },
    {
      "cell_type": "code",
      "source": [
        "def square(num):\n",
        "    return num * num\n",
        "\n",
        "result = square(4)\n",
        "print(result)  # Output: 16"
      ],
      "metadata": {
        "colab": {
          "base_uri": "https://localhost:8080/"
        },
        "id": "r8upfbQO1TmG",
        "outputId": "8a28ed85-5454-42b0-d6d9-917d924e5e3d"
      },
      "execution_count": 6,
      "outputs": [
        {
          "output_type": "stream",
          "name": "stdout",
          "text": [
            "16\n"
          ]
        }
      ]
    },
    {
      "cell_type": "markdown",
      "source": [
        "5. What are iterators in Python and how do they differ from iterables?\n",
        "\n",
        "\n",
        "Ans: Iterable: An object that can be looped over (like lists, strings, tuples).\n",
        "\n",
        "Iterator: An object that keeps track of the current position during iteration and uses __next__() to get the next item.\n",
        "\n",
        "Difference:\n",
        "Iterable gives you a fresh iterator when used in a for loop.\n",
        "\n",
        "Iterator remembers its state and is used with next()."
      ],
      "metadata": {
        "id": "rnRUBOHw1vaI"
      }
    },
    {
      "cell_type": "code",
      "source": [
        "# Iterable\n",
        "nums = [1, 2, 3]\n",
        "\n",
        "# Convert iterable to iterator\n",
        "it = iter(nums)\n",
        "\n",
        "print(next(it))  # Output: 1\n",
        "print(next(it))  # Output: 2"
      ],
      "metadata": {
        "colab": {
          "base_uri": "https://localhost:8080/"
        },
        "id": "E5-8WnW612NV",
        "outputId": "e91e9585-bae0-4d94-8047-f8cd054ece19"
      },
      "execution_count": 7,
      "outputs": [
        {
          "output_type": "stream",
          "name": "stdout",
          "text": [
            "1\n",
            "2\n"
          ]
        }
      ]
    },
    {
      "cell_type": "markdown",
      "source": [
        "6. Explain the concept of generators in Python and how they are defined.\n",
        "\n",
        "\n",
        "Ans: A generator is a special type of function that yields values one at a time instead of returning all at once.\n",
        "\n",
        "Defined using the def keyword and yield instead of return."
      ],
      "metadata": {
        "id": "zZKb9YbR2Tft"
      }
    },
    {
      "cell_type": "code",
      "source": [
        "def count_up_to(n):\n",
        "    i = 1\n",
        "    while i <= n:\n",
        "        yield i\n",
        "        i += 1\n",
        "\n",
        "for num in count_up_to(3):\n",
        "    print(num)\n",
        "# Output: 1, 2, 3"
      ],
      "metadata": {
        "colab": {
          "base_uri": "https://localhost:8080/"
        },
        "id": "mFZdQYYz2cne",
        "outputId": "1d7b76ef-abbb-4d7e-b56c-77cb38691a37"
      },
      "execution_count": 8,
      "outputs": [
        {
          "output_type": "stream",
          "name": "stdout",
          "text": [
            "1\n",
            "2\n",
            "3\n"
          ]
        }
      ]
    },
    {
      "cell_type": "markdown",
      "source": [
        "7. What are the advantages of using generators over regular functions?\n",
        "\n",
        "Ans: Memory efficient – No need to store the entire result in memory.\n",
        "Faster for large data – Works great for huge datasets or infinite sequences.\n",
        " Stateful – Remembers where it left off between each yield."
      ],
      "metadata": {
        "id": "PiovURN72jr2"
      }
    },
    {
      "cell_type": "code",
      "source": [
        "# Normal function (returns full list)\n",
        "def get_numbers_list(n):\n",
        "    return [i for i in range(n)]\n",
        "\n",
        "# Generator function (yields one value at a time)\n",
        "def get_numbers_gen(n):\n",
        "    for i in range(n):\n",
        "        yield i"
      ],
      "metadata": {
        "id": "1XtUVzuL24Dh"
      },
      "execution_count": 9,
      "outputs": []
    },
    {
      "cell_type": "markdown",
      "source": [
        "8. What is a lambda function in Python and when is it typically used?\n",
        "\n",
        "Ans:  lambda function is an anonymous (unnamed) function written in one line using the lambda keyword.\n",
        "\n",
        "Used when you need a simple function temporarily, like inside map(), filter(), etc."
      ],
      "metadata": {
        "id": "LTERXCo429v1"
      }
    },
    {
      "cell_type": "code",
      "source": [
        "square = lambda x: x * x\n",
        "print(square(5))  # Output: 25"
      ],
      "metadata": {
        "colab": {
          "base_uri": "https://localhost:8080/"
        },
        "id": "TwTzGimC3Bme",
        "outputId": "210d74b3-93bb-4282-cc6a-2de12a938067"
      },
      "execution_count": 10,
      "outputs": [
        {
          "output_type": "stream",
          "name": "stdout",
          "text": [
            "25\n"
          ]
        }
      ]
    },
    {
      "cell_type": "markdown",
      "source": [
        "9. Explain the purpose and usage of the map() function in Python.\n",
        "\n",
        "\n",
        "Ans: The map() function applies a given function to every item of an iterable (like a list) and returns a new iterator."
      ],
      "metadata": {
        "id": "Ypp_uqsS3Y4u"
      }
    },
    {
      "cell_type": "code",
      "source": [
        "nums = [1, 2, 3, 4]\n",
        "squared = list(map(lambda x: x**2, nums))\n",
        "print(squared)  # Output: [1, 4, 9, 16]"
      ],
      "metadata": {
        "colab": {
          "base_uri": "https://localhost:8080/"
        },
        "id": "HFDAw0aK3eb3",
        "outputId": "2adc9adc-9719-4cb6-d6bc-fd8b080b6687"
      },
      "execution_count": 11,
      "outputs": [
        {
          "output_type": "stream",
          "name": "stdout",
          "text": [
            "[1, 4, 9, 16]\n"
          ]
        }
      ]
    },
    {
      "cell_type": "markdown",
      "source": [
        "#Practical Questions:"
      ],
      "metadata": {
        "id": "h2LVIew64yMv"
      }
    },
    {
      "cell_type": "code",
      "source": [
        "#Q:1 Sum of even numbers in a list.\n",
        "\n",
        "def sum_even_numbers(numbers):\n",
        "    total = 0\n",
        "    for num in numbers:\n",
        "        if num % 2 == 0:\n",
        "            total += num\n",
        "    return total\n",
        "\n",
        "# Example\n",
        "print(sum_even_numbers([1, 2, 3, 4, 5, 6]))  # Output: 12\n",
        "\n"
      ],
      "metadata": {
        "colab": {
          "base_uri": "https://localhost:8080/"
        },
        "id": "D572y3ai3iZn",
        "outputId": "634bab58-da3b-4c87-a91b-6b0faced7564"
      },
      "execution_count": 13,
      "outputs": [
        {
          "output_type": "stream",
          "name": "stdout",
          "text": [
            "12\n"
          ]
        }
      ]
    },
    {
      "cell_type": "code",
      "source": [
        "#Q:2 Reverse a string\n",
        "\n",
        "def reverse_string(text):\n",
        "    return text[::-1]\n",
        "\n",
        "# Example\n",
        "print(reverse_string(\"hello\"))  # Output: \"olleh\""
      ],
      "metadata": {
        "colab": {
          "base_uri": "https://localhost:8080/"
        },
        "id": "wqynjYD-5CV5",
        "outputId": "c6ff55b4-3e47-4561-f52b-e2a8583ac353"
      },
      "execution_count": 14,
      "outputs": [
        {
          "output_type": "stream",
          "name": "stdout",
          "text": [
            "olleh\n"
          ]
        }
      ]
    },
    {
      "cell_type": "code",
      "source": [
        "#Q:3 Squares of numbers in a list:\n",
        "\n",
        "def square_numbers(numbers):\n",
        "    return [num ** 2 for num in numbers]\n",
        "\n",
        "# Example\n",
        "print(square_numbers([1, 2, 3, 4]))  # Output: [1, 4, 9, 16]"
      ],
      "metadata": {
        "colab": {
          "base_uri": "https://localhost:8080/"
        },
        "id": "uP9snAHM5ULf",
        "outputId": "3508547f-72dd-4f69-9b05-1809f9abaecc"
      },
      "execution_count": 17,
      "outputs": [
        {
          "output_type": "stream",
          "name": "stdout",
          "text": [
            "[1, 4, 9, 16]\n"
          ]
        }
      ]
    },
    {
      "cell_type": "code",
      "source": [
        "#Q:4 Checking prime no from 1 to 200:\n",
        "\n",
        "def is_prime(n):\n",
        "    if n <= 1:\n",
        "        return False\n",
        "    for i in range(2, int(n**0.5)+1):\n",
        "        if n % i == 0:\n",
        "            return False\n",
        "    return True\n",
        "\n",
        "# Checking prime numbers from 1 to 200\n",
        "for i in range(1, 201):\n",
        "    if is_prime(i):\n",
        "        print(i, \"is a prime number\")"
      ],
      "metadata": {
        "colab": {
          "base_uri": "https://localhost:8080/"
        },
        "id": "cgtEUyrv5gw2",
        "outputId": "610028c6-014e-4f50-b8b9-cad06a3f37bd"
      },
      "execution_count": 18,
      "outputs": [
        {
          "output_type": "stream",
          "name": "stdout",
          "text": [
            "2 is a prime number\n",
            "3 is a prime number\n",
            "5 is a prime number\n",
            "7 is a prime number\n",
            "11 is a prime number\n",
            "13 is a prime number\n",
            "17 is a prime number\n",
            "19 is a prime number\n",
            "23 is a prime number\n",
            "29 is a prime number\n",
            "31 is a prime number\n",
            "37 is a prime number\n",
            "41 is a prime number\n",
            "43 is a prime number\n",
            "47 is a prime number\n",
            "53 is a prime number\n",
            "59 is a prime number\n",
            "61 is a prime number\n",
            "67 is a prime number\n",
            "71 is a prime number\n",
            "73 is a prime number\n",
            "79 is a prime number\n",
            "83 is a prime number\n",
            "89 is a prime number\n",
            "97 is a prime number\n",
            "101 is a prime number\n",
            "103 is a prime number\n",
            "107 is a prime number\n",
            "109 is a prime number\n",
            "113 is a prime number\n",
            "127 is a prime number\n",
            "131 is a prime number\n",
            "137 is a prime number\n",
            "139 is a prime number\n",
            "149 is a prime number\n",
            "151 is a prime number\n",
            "157 is a prime number\n",
            "163 is a prime number\n",
            "167 is a prime number\n",
            "173 is a prime number\n",
            "179 is a prime number\n",
            "181 is a prime number\n",
            "191 is a prime number\n",
            "193 is a prime number\n",
            "197 is a prime number\n",
            "199 is a prime number\n"
          ]
        }
      ]
    },
    {
      "cell_type": "code",
      "source": [
        "#Q:5 Fibonacci Iterator class:\n",
        "\n",
        "class FibonacciIterator:\n",
        "    def __init__(self, terms):\n",
        "        self.terms = terms\n",
        "        self.count = 0\n",
        "        self.a, self.b = 0, 1\n",
        "\n",
        "    def __iter__(self):\n",
        "        return self\n",
        "\n",
        "    def __next__(self):\n",
        "        if self.count >= self.terms:\n",
        "            raise StopIteration\n",
        "        self.count += 1\n",
        "        result = self.a\n",
        "        self.a, self.b = self.b, self.a + self.b\n",
        "        return result\n",
        "\n",
        "# Example\n",
        "for num in FibonacciIterator(10):\n",
        "    print(num, end=\" \")  # Output: 0 1 1 2 3 5 8 13 21 34"
      ],
      "metadata": {
        "colab": {
          "base_uri": "https://localhost:8080/"
        },
        "id": "N7DKHS7V50lZ",
        "outputId": "189bfbfe-691d-4429-c184-1bf2f0590961"
      },
      "execution_count": 19,
      "outputs": [
        {
          "output_type": "stream",
          "name": "stdout",
          "text": [
            "0 1 1 2 3 5 8 13 21 34 "
          ]
        }
      ]
    },
    {
      "cell_type": "code",
      "source": [
        "#Q:6 Generator functions for power 2:\n",
        "\n",
        "def powers_of_two(exponent):\n",
        "    for i in range(exponent + 1):\n",
        "        yield 2 ** i\n",
        "\n",
        "# Example\n",
        "for power in powers_of_two(5):\n",
        "    print(power, end=\" \")  # Output: 1 2 4 8 16 32"
      ],
      "metadata": {
        "colab": {
          "base_uri": "https://localhost:8080/"
        },
        "id": "NogqdPet6Fpn",
        "outputId": "0653e6a4-198e-4569-fdae-94fdef9c6574"
      },
      "execution_count": 20,
      "outputs": [
        {
          "output_type": "stream",
          "name": "stdout",
          "text": [
            "1 2 4 8 16 32 "
          ]
        }
      ]
    },
    {
      "cell_type": "code",
      "source": [
        "#Q:7 Generator function to read file line by line:\n",
        "\n",
        "def read_file_line_by_line(filename):\n",
        "    with open(filename, 'r') as file:\n",
        "        for line in file:\n",
        "            yield line.strip()\n",
        "\n",
        "# Example usage (assuming 'sample.txt' exists):\n",
        "# for line in read_file_line_by_line('sample.txt'):\n",
        "#     print(line)"
      ],
      "metadata": {
        "id": "p0cmY9pO6Q3J"
      },
      "execution_count": 23,
      "outputs": []
    },
    {
      "cell_type": "code",
      "source": [
        "#Q:8 Short tuples by second element using lambda:\n",
        "\n",
        "data = [(1, 3), (4, 1), (2, 2), (5, 0)]\n",
        "sorted_data = sorted(data, key=lambda x: x[1])\n",
        "\n",
        "print(sorted_data)  # Output: [(5, 0), (4, 1), (2, 2), (1, 3)]"
      ],
      "metadata": {
        "colab": {
          "base_uri": "https://localhost:8080/"
        },
        "id": "au_onDif6pTX",
        "outputId": "8db3ed96-94c0-42b6-87f4-5001bf9a54a8"
      },
      "execution_count": 24,
      "outputs": [
        {
          "output_type": "stream",
          "name": "stdout",
          "text": [
            "[(5, 0), (4, 1), (2, 2), (1, 3)]\n"
          ]
        }
      ]
    },
    {
      "cell_type": "code",
      "source": [
        "#Q:9 Convert celsius to farhenheit using Map():\n",
        "\n",
        "celsius = [0, 10, 20, 30, 40]\n",
        "fahrenheit = list(map(lambda c: (c * 9/5) + 32, celsius))\n",
        "\n",
        "print(fahrenheit)  # Output: [32.0, 50.0, 68.0, 86.0, 104.0]"
      ],
      "metadata": {
        "colab": {
          "base_uri": "https://localhost:8080/"
        },
        "id": "JOZob8Ax7CVX",
        "outputId": "5573f920-e1d7-4de4-9c45-dd90e38192fd"
      },
      "execution_count": 25,
      "outputs": [
        {
          "output_type": "stream",
          "name": "stdout",
          "text": [
            "[32.0, 50.0, 68.0, 86.0, 104.0]\n"
          ]
        }
      ]
    },
    {
      "cell_type": "code",
      "source": [
        "#Q:10 Remove  all vowels from a string using filter():\n",
        "\n",
        "\n",
        "def remove_vowels(text):\n",
        "    vowels = \"aeiouAEIOU\"\n",
        "    return ''.join(filter(lambda ch: ch not in vowels, text))\n",
        "\n",
        "# Example\n",
        "result = remove_vowels(\"Hello World\")\n",
        "print(result)  # Output: \"Hll Wrld\""
      ],
      "metadata": {
        "colab": {
          "base_uri": "https://localhost:8080/"
        },
        "id": "ovivVKjU7ck5",
        "outputId": "c7503673-4b17-4454-9c7d-d8a99399ea36"
      },
      "execution_count": 26,
      "outputs": [
        {
          "output_type": "stream",
          "name": "stdout",
          "text": [
            "Hll Wrld\n"
          ]
        }
      ]
    },
    {
      "cell_type": "code",
      "source": [
        "#Q:11\n",
        "\n",
        "orders = [\n",
        "    [34587, \"Learning Python, Mark Lutz\", 4, 40.95],\n",
        "    [98762, \"Programming Python, Mark Lutz\", 5, 56.80],\n",
        "    [77226, \"Head First Python, Paul Barry\", 3, 32.95],\n",
        "    [88112, \"Einführung in Python 3, Bernd Klein\", 3, 24.99]\n",
        "]\n",
        "\n",
        "# Lambda + map logic\n",
        "final_orders = list(map(lambda x: (\n",
        "    x[0],\n",
        "    x[2] * x[3] if x[2] * x[3] >= 100 else x[2] * x[3] + 10\n",
        "), orders))\n",
        "\n",
        "print(final_orders)"
      ],
      "metadata": {
        "colab": {
          "base_uri": "https://localhost:8080/"
        },
        "id": "0ZfqnTdo7sby",
        "outputId": "376c04f3-7bc2-4e07-e056-c1703c604df0"
      },
      "execution_count": 27,
      "outputs": [
        {
          "output_type": "stream",
          "name": "stdout",
          "text": [
            "[(34587, 163.8), (98762, 284.0), (77226, 108.85000000000001), (88112, 84.97)]\n"
          ]
        }
      ]
    },
    {
      "cell_type": "code",
      "source": [],
      "metadata": {
        "id": "9aTsboNI8kLI"
      },
      "execution_count": null,
      "outputs": []
    }
  ]
}